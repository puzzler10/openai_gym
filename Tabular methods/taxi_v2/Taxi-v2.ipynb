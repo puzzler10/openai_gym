{
 "cells": [
  {
   "cell_type": "markdown",
   "metadata": {},
   "source": [
    "## The Taxi Problem  \n",
    "\n",
    "from \"Hierarchical Reinforcement Learning with the MAXQ Value Function Decomposition\"\n",
    "by Tom Dietterich\n",
    "\n",
    "\n",
    "**Description**   \n",
    "There are four designated locations in the grid world indicated by R(ed), B(lue), G(reen), and Y(ellow). When the episode starts, the taxi starts off at a random square and the passenger is at a random location. The taxi drive to the passenger's location, pick up the passenger, drive to the passenger's destination (another one of the four specified locations), and then drop off the passenger. Once the passenger is dropped off, the episode ends.\n",
    "\n",
    "**Observations**   \n",
    "There are 500 discrete actions since there are 25 taxi positions, 5 possible locations of the passenger (including the case when the passenger is the taxi), and 4 destination locations. \n",
    "\n",
    "\n",
    "**Actions**   \n",
    "There are 6 discrete deterministic actions:\n",
    "- 0: move south\n",
    "- 1: move north\n",
    "- 2: move east \n",
    "- 3: move west \n",
    "- 4: pickup passenger\n",
    "- 5: dropoff passenger\n",
    "\n",
    "**Rewards**   \n",
    "    There is a reward of -1 for each action and an additional reward of +20 for delievering the passenger. There is a reward of -10 for executing actions \"pickup\" and \"dropoff\" illegally.\n",
    "\n",
    "**Rendering**\n",
    "- blue: passenger\n",
    "- magenta: destination\n",
    "- yellow: empty taxi\n",
    "- green: full taxi\n",
    "- other letters: locations\n"
   ]
  },
  {
   "cell_type": "markdown",
   "metadata": {},
   "source": [
    "### Setup"
   ]
  },
  {
   "cell_type": "code",
   "execution_count": 1,
   "metadata": {
    "collapsed": true
   },
   "outputs": [],
   "source": [
    "import gym \n",
    "import numpy as np\n",
    "import pandas as pd \n",
    "import matplotlib.pyplot as plt\n",
    "%matplotlib inline\n",
    "\n",
    "# For animation \n",
    "from IPython.display import clear_output\n",
    "from time import sleep"
   ]
  },
  {
   "cell_type": "code",
   "execution_count": 91,
   "metadata": {
    "collapsed": true
   },
   "outputs": [],
   "source": [
    "class Agent: \n",
    "    def __init__(self, method, start_alpha = 0.1, start_gamma = 0.9, start_epsilon = 0.1):\n",
    "        \"\"\"method: one of 'q_learning', 'sarsa' or 'expected_sarsa' \"\"\"\n",
    "        self.method = method\n",
    "        self.env = gym.make('Taxi-v2')\n",
    "        self.n_squares = 25 \n",
    "        self.n_passenger_locs = 5 \n",
    "        self.n_dropoffs = 4 \n",
    "        self.n_actions = self.env.action_space.n\n",
    "        self.epsilon = start_epsilon\n",
    "        self.gamma = start_gamma\n",
    "        self.alpha = start_alpha\n",
    "        # Set up initial q-table \n",
    "        self.q = np.zeros(shape = (self.n_squares*self.n_passenger_locs*self.n_dropoffs, self.env.action_space.n))\n",
    "        # Set up policy pi, init as equiprobable random policy\n",
    "        self.pi = np.zeros_like(self.q)\n",
    "        for i in range(self.pi.shape[0]): \n",
    "            for a in range(self.n_actions): \n",
    "                self.pi[i,a] = 1/self.n_actions\n",
    "        \n",
    "    def simulate_episode(self):\n",
    "        s = self.env.reset()\n",
    "        done = False\n",
    "        r_sum = 0 \n",
    "        n_steps = 0 \n",
    "        gam = self.gamma\n",
    "        while not done: \n",
    "            n_steps += 1\n",
    "            # take action from policy\n",
    "            x = np.random.random()\n",
    "            a = np.argmax(np.cumsum(self.pi[s,:]) > x) \n",
    "            # take step \n",
    "            s_prime,r,done,info = self.env.step(a)    \n",
    "            if self.method == 'q_learning': \n",
    "                a_prime = np.random.choice(np.where(self.q[s_prime] == max(self.q[s_prime]))[0])\n",
    "                self.q[s,a] = self.q[s,a] + self.alpha * \\\n",
    "                    (r + gam*self.q[s_prime,a_prime] - self.q[s,a])\n",
    "            elif self.method == 'sarsa': \n",
    "                a_prime = np.argmax(np.cumsum(self.pi[s_prime,:]) > np.random.random())\n",
    "                self.q[s,a] = self.q[s,a] + self.alpha * \\\n",
    "                    (r + gam*self.q[s_prime,a_prime ] - self.q[s,a])\n",
    "            elif self.method == 'expected_sarsa':\n",
    "                self.q[s,a] = self.q[s,a] + self.alpha * \\\n",
    "                    (r + gam* np.dot(self.pi[s_prime,:],self.q[s_prime,:]) - self.q[s,a])\n",
    "            else: \n",
    "                raise Exception(\"Invalid method provided\")\n",
    "            # update policy\n",
    "            best_a = np.random.choice(np.where(self.q[s] == max(self.q[s]))[0])\n",
    "            for i in range(self.n_actions): \n",
    "                if i == best_a:      self.pi[s,i] = 1 - (self.n_actions-1)*(self.epsilon / self.n_actions)\n",
    "                else:                self.pi[s,i] = self.epsilon / self.n_actions\n",
    "       \n",
    "            # decay gamma close to the end of the episode\n",
    "            if n_steps > 185: \n",
    "                gam *= 0.875\n",
    "            s = s_prime\n",
    "            r_sum += r\n",
    "        return r_sum\n"
   ]
  },
  {
   "cell_type": "code",
   "execution_count": null,
   "metadata": {
    "collapsed": true
   },
   "outputs": [],
   "source": [
    "def simulate_episode(self):\n",
    "    s = self.env.reset()\n",
    "    done = False\n",
    "    r_sum = 0 \n",
    "    n_steps = 0 \n",
    "    gam = self.gamma\n",
    "    while not done: \n",
    "        n_steps += 1\n",
    "        # take action from policy\n",
    "        x = np.random.random()\n",
    "        a = np.argmax(np.cumsum(self.pi[s,:]) > x) \n",
    "        # take step \n",
    "        s_prime,r,done,info = self.env.step(a)    \n",
    "        if self.method == 'q_learning': \n",
    "            a_prime = np.random.choice(np.where(self.q[s_prime] == max(self.q[s_prime]))[0])\n",
    "            self.q[s,a] = self.q[s,a] + self.alpha * \\\n",
    "                (r + gam*self.q[s_prime,a_prime] - self.q[s,a])\n",
    "        elif self.method == 'sarsa': \n",
    "            a_prime = np.argmax(np.cumsum(self.pi[s_prime,:]) > np.random.random())\n",
    "            self.q[s,a] = self.q[s,a] + self.alpha * \\\n",
    "                (r + gam*self.q[s_prime,a_prime ] - self.q[s,a])\n",
    "        elif self.method == 'expected_sarsa':\n",
    "            self.q[s,a] = self.q[s,a] + self.alpha * \\\n",
    "                (r + gam* np.dot(self.pi[s_prime,:],self.q[s_prime,:]) - self.q[s,a])\n",
    "        else: \n",
    "            raise Exception(\"Invalid method provided\")\n",
    "        # update policy\n",
    "        best_a = np.random.choice(np.where(self.q[s] == max(self.q[s]))[0])\n",
    "        for i in range(self.n_actions): \n",
    "            if i == best_a:      self.pi[s,i] = 1 - (self.n_actions-1)*(self.epsilon / self.n_actions)\n",
    "            else:                self.pi[s,i] = self.epsilon / self.n_actions\n",
    "\n",
    "        # decay gamma close to the end of the episode\n",
    "        if n_steps > 185: \n",
    "            gam *= 0.875\n",
    "        s = s_prime\n",
    "        r_sum += r\n",
    "    return r_sum"
   ]
  },
  {
   "cell_type": "code",
   "execution_count": 107,
   "metadata": {
    "collapsed": true
   },
   "outputs": [],
   "source": [
    "def train_agent(agent, n_episodes= 200001, epsilon_decay = 0.99995, alpha_decay = 0.99995, print_trace = False):\n",
    "    r_sums = []\n",
    "    for ep in range(n_episodes): \n",
    "        r_sum = agent.simulate_episode()\n",
    "        # decrease epsilon and learning rate \n",
    "        agent.epsilon *= epsilon_decay\n",
    "        agent.alpha *= alpha_decay\n",
    "        if print_trace: \n",
    "            if ep % 20000 == 0 and ep > 0 : \n",
    "                print(\"Episode:\", ep, \"alpha:\", np.round(agent.alpha, 3), \"epsilon:\",  np.round(agent.epsilon, 3))\n",
    "                print (\"Last 100 episodes avg reward: \", np.mean(r_sums[ep-100:ep]))\n",
    "        r_sums.append(r_sum)\n",
    "    return r_sums"
   ]
  },
  {
   "cell_type": "code",
   "execution_count": 108,
   "metadata": {
    "collapsed": true
   },
   "outputs": [],
   "source": [
    "# Create agents \n",
    "sarsa_agent = Agent(method='sarsa')\n",
    "e_sarsa_agent = Agent(method='expected_sarsa')\n",
    "q_learning_agent = Agent(method='q_learning')\n",
    "\n",
    "# Train agents\n",
    "r_sums_sarsa = train_agent(sarsa_agent, print_trace=True)\n",
    "r_sums_e_sarsa = train_agent(e_sarsa_agent, print_trace=True)\n",
    "r_sums_q_learning = train_agent(q_learning_agent, print_trace=True)"
   ]
  },
  {
   "cell_type": "code",
   "execution_count": 116,
   "metadata": {
    "scrolled": true
   },
   "outputs": [
    {
     "data": {
      "text/plain": [
       "<matplotlib.axes._subplots.AxesSubplot at 0xc5e17b8>"
      ]
     },
     "execution_count": 116,
     "metadata": {},
     "output_type": "execute_result"
    },
    {
     "data": {
      "image/png": "[encoded data removed]",
      "text/plain": [
       "<matplotlib.figure.Figure at 0xa33d240>"
      ]
     },
     "metadata": {},
     "output_type": "display_data"
    }
   ],
   "source": [
    "df =pd.DataFrame({\"Sarsa\": r_sums_sarsa, \n",
    "             \"Expected_Sarsa\": r_sums_e_sarsa, \n",
    "             \"Q-Learning\": r_sums_q_learning})\n",
    "df_ma = df.rolling(100, min_periods = 100).mean()\n",
    "df_ma.iloc[1:1500].plot()"
   ]
  },
  {
   "cell_type": "code",
   "execution_count": 114,
   "metadata": {},
   "outputs": [
    {
     "data": {
      "text/plain": [
       "Expected_Sarsa    9.50\n",
       "Q-Learning        9.44\n",
       "Sarsa             9.42\n",
       "dtype: float64"
      ]
     },
     "execution_count": 114,
     "metadata": {},
     "output_type": "execute_result"
    }
   ],
   "source": [
    "np.max(df_ma)"
   ]
  },
  {
   "cell_type": "markdown",
   "metadata": {},
   "source": [
    "### Looking at the policy for a state "
   ]
  },
  {
   "cell_type": "code",
   "execution_count": 40,
   "metadata": {
    "collapsed": true
   },
   "outputs": [],
   "source": [
    "agent = sarsa_agent\n",
    "policy = np.zeros((5,5))\n",
    "for i in range(5): \n",
    "    for j in range(5):\n",
    "        policy[i,j] = np.argmax(agent.q[agent.env.env.encode(i,j,4,0),:])"
   ]
  },
  {
   "cell_type": "code",
   "execution_count": 41,
   "metadata": {},
   "outputs": [
    {
     "data": {
      "text/plain": [
       "array([[ 5.,  3.,  0.,  3.,  3.],\n",
       "       [ 1.,  1.,  3.,  3.,  3.],\n",
       "       [ 1.,  1.,  1.,  3.,  3.],\n",
       "       [ 1.,  1.,  1.,  1.,  1.],\n",
       "       [ 1.,  1.,  3.,  1.,  3.]])"
      ]
     },
     "execution_count": 41,
     "metadata": {},
     "output_type": "execute_result"
    }
   ],
   "source": [
    "policy"
   ]
  },
  {
   "cell_type": "code",
   "execution_count": 42,
   "metadata": {},
   "outputs": [
    {
     "data": {
      "text/plain": [
       "array([[ 5.,  3.,  0.,  3.,  3.],\n",
       "       [ 1.,  1.,  3.,  3.,  3.],\n",
       "       [ 1.,  1.,  1.,  3.,  3.],\n",
       "       [ 1.,  1.,  1.,  1.,  1.],\n",
       "       [ 1.,  1.,  3.,  1.,  3.]])"
      ]
     },
     "execution_count": 42,
     "metadata": {},
     "output_type": "execute_result"
    }
   ],
   "source": [
    "policy"
   ]
  },
  {
   "cell_type": "code",
   "execution_count": 43,
   "metadata": {},
   "outputs": [
    {
     "data": {
      "text/plain": [
       "array([[ 5.,  3.,  0.,  3.,  3.],\n",
       "       [ 1.,  1.,  3.,  3.,  3.],\n",
       "       [ 1.,  1.,  1.,  3.,  3.],\n",
       "       [ 1.,  1.,  1.,  1.,  1.],\n",
       "       [ 1.,  1.,  3.,  1.,  3.]])"
      ]
     },
     "execution_count": 43,
     "metadata": {},
     "output_type": "execute_result"
    }
   ],
   "source": [
    "policy"
   ]
  },
  {
   "cell_type": "markdown",
   "metadata": {
    "collapsed": true
   },
   "source": [
    "# Viewing the final policy "
   ]
  },
  {
   "cell_type": "code",
   "execution_count": 44,
   "metadata": {
    "collapsed": true
   },
   "outputs": [],
   "source": [
    "def generate_frames(agent, start_state):\n",
    "    agent.env.reset()\n",
    "    agent.env.env.s = start_state\n",
    "    s = start_state\n",
    "    policy = np.argmax(agent.pi,axis =1)\n",
    "    epochs = 0\n",
    "    penalties, reward = 0, 0\n",
    "    frames = [] \n",
    "    done = False\n",
    "    frames.append({\n",
    "        'frame': agent.env.render(mode='ansi'),\n",
    "        'state': agent.env.env.s ,\n",
    "        'action': \"Start\",\n",
    "        'reward': 0\n",
    "        }\n",
    "    )\n",
    "    while not done:\n",
    "        a = policy[s]\n",
    "        s, reward, done, info = agent.env.step(a)\n",
    "        if reward == -10:\n",
    "            penalties += 1\n",
    "\n",
    "        # Put each rendered frame into dict for animation\n",
    "        frames.append({\n",
    "            'frame': agent.env.render(mode='ansi'),\n",
    "            'state': s,\n",
    "            'action': a,\n",
    "            'reward': reward\n",
    "            }\n",
    "        )\n",
    "        epochs += 1\n",
    "    print(\"Timesteps taken: {}\".format(epochs))\n",
    "    print(\"Penalties incurred: {}\".format(penalties))\n",
    "    return frames\n",
    "\n",
    "def print_frames(frames):\n",
    "    for i, frame in enumerate(frames):\n",
    "        clear_output(wait=True)\n",
    "        print(frame['frame'].getvalue())\n",
    "        print(f\"Timestep: {i + 1}\")\n",
    "        print(f\"State: {frame['state']}\")\n",
    "        print(f\"Action: {frame['action']}\")\n",
    "        print(f\"Reward: {frame['reward']}\")\n",
    "        sleep(.4)\n",
    "        "
   ]
  },
  {
   "cell_type": "code",
   "execution_count": 47,
   "metadata": {},
   "outputs": [
    {
     "name": "stdout",
     "output_type": "stream",
     "text": [
      "+---------+\n",
      "|R: | : :G|\n",
      "| : : : : |\n",
      "| : : : : |\n",
      "| | : | : |\n",
      "|\u001b[35m\u001b[42mY\u001b[0m\u001b[0m| : |B: |\n",
      "+---------+\n",
      "  (Dropoff)\n",
      "\n",
      "Timestep: 16\n",
      "State: 418\n",
      "Action: 5\n",
      "Reward: 20\n"
     ]
    }
   ],
   "source": [
    "agent = sarsa_agent\n",
    "start_state= 314\n",
    "frames = generate_frames(agent, start_state)\n",
    "print_frames(frames)"
   ]
  },
  {
   "cell_type": "code",
   "execution_count": null,
   "metadata": {
    "collapsed": true
   },
   "outputs": [],
   "source": []
  }
 ],
 "metadata": {
  "kernelspec": {
   "display_name": "Python 3",
   "language": "python",
   "name": "python3"
  },
  "language_info": {
   "codemirror_mode": {
    "name": "ipython",
    "version": 3
   },
   "file_extension": ".py",
   "mimetype": "text/x-python",
   "name": "python",
   "nbconvert_exporter": "python",
   "pygments_lexer": "ipython3",
   "version": "3.6.1"
  }
 },
 "nbformat": 4,
 "nbformat_minor": 2
}
