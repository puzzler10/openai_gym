{
 "cells": [
  {
   "cell_type": "code",
   "execution_count": 205,
   "metadata": {
    "collapsed": true
   },
   "outputs": [],
   "source": [
    "import gym\n",
    "import pandas as pd\n",
    "import numpy as np\n",
    "from keras.models import Sequential\n",
    "from keras.layers import Dense, Dropout\n",
    "from keras.optimizers import Adam "
   ]
  },
  {
   "cell_type": "code",
   "execution_count": 191,
   "metadata": {
    "collapsed": true
   },
   "outputs": [],
   "source": [
    "env = gym.make(\"CartPole-v1\")\n",
    "env.reset()\n",
    "n_actions = env.action_space.n\n",
    "input_dim = env.observation_space.shape[0]"
   ]
  },
  {
   "cell_type": "code",
   "execution_count": 192,
   "metadata": {
    "collapsed": true
   },
   "outputs": [],
   "source": [
    "# nnet to approximate q \n",
    "model = Sequential()\n",
    "# 5 = 4 states + 1 action\n",
    "model.add(Dense(16, input_dim = 4 , activation = 'relu'))\n",
    "model.add(Dense(32, activation = 'relu'))\n",
    "model.add(Dense(32, activation = 'relu'))\n",
    "model.add(Dense(2, activation = 'linear'))\n",
    "model.compile(optimizer=Adam(), loss = 'mse')"
   ]
  },
  {
   "cell_type": "code",
   "execution_count": 238,
   "metadata": {},
   "outputs": [
    {
     "name": "stdout",
     "output_type": "stream",
     "text": [
      "500\n",
      "9.78\n",
      "1000\n",
      "9.8\n",
      "1500\n",
      "10.0\n",
      "2000\n",
      "9.99\n",
      "2500\n",
      "9.77\n",
      "3000\n",
      "9.81\n",
      "3500\n",
      "9.92\n",
      "4000\n",
      "10.13\n",
      "4500\n",
      "9.74\n",
      "5000\n",
      "9.91\n",
      "5500\n",
      "9.87\n",
      "6000\n",
      "9.92\n",
      "6500\n",
      "9.88\n",
      "7000\n",
      "9.85\n",
      "7500\n",
      "10.04\n",
      "8000\n",
      "10.19\n",
      "8500\n",
      "9.7\n",
      "9000\n",
      "9.77\n",
      "9500\n",
      "9.81\n",
      "10000\n",
      "9.74\n",
      "10500\n",
      "9.83\n",
      "11000\n",
      "9.91\n",
      "11500\n",
      "9.82\n"
     ]
    }
   ],
   "source": [
    "n_episodes = 12000\n",
    "gamma = 0.95\n",
    "epsilon = 0.1\n",
    "minibatch_size = 32\n",
    "r_sums = []\n",
    "# replay memory holds s, a, r, s'\n",
    "replay_memory = []\n",
    "for n in range(n_episodes): \n",
    "    s = env.reset()\n",
    "    done=False\n",
    "    r_sum = 0\n",
    "    while not done: \n",
    "        env.render()\n",
    "        # 1. Feedforward pass for current state to get predicted q-values for all actions \n",
    "        qvals_s = model.predict(s.reshape(1,4))\n",
    "        # 1a. choose action\n",
    "        if np.random.random() < epsilon:  a = env.action_space.sample()\n",
    "        else:                             a = np.argmax(qvals_s)\n",
    "        sprime, r, done, info = env.step(a)\n",
    "        # add to memory \n",
    "        if len(replay_memory) < 10000:\n",
    "            replay_memory.append({\"s\":s,\"a\":a,\"r\":r,\"sprime\":sprime})\n",
    "        else:\n",
    "            replay_memory[n % len(replay_memory)] = {\"s\":s,\"a\":a,\"r\":r,\"sprime\":sprime}\n",
    "        r_sum += r \n",
    "    # Experience Replay - update weights after every episode\n",
    "    msize = min(minibatch_size,n)\n",
    "    minibatch = np.random.choice(replay_memory, msize , replace=False)\n",
    "    for i in range(msize): \n",
    "        tmp = minibatch[i]\n",
    "        s,a,r,sprime = tmp['s'],tmp['a'],tmp['r'],tmp['sprime']\n",
    "        # 2. Do a feedforward pass for the next state s’ and calculate \n",
    "        # maximum overall network outputs max a’ Q(s’, a’).\n",
    "        qvals_sprime = model.predict(sprime.reshape(1,4))\n",
    "        # 3. Set Q-value target for action to r + γmax a’ Q(s’, a’), \n",
    "        # For all other actions, set the Q-value target to the same \n",
    "        # as originally returned from step 1, making the error 0 for those outputs.\n",
    "        target = r + gamma * np.max(qvals_sprime)\n",
    "        target_f = model.predict(s.reshape((1,4)))\n",
    "        target_f[0][a] = []\n",
    "        for i in range(n_actions): \n",
    "            if i == a: target_arr.append(target)\n",
    "            else:      target_arr.append(qvals_s[0][i])\n",
    "        target_arr = np.array(target_arr)\n",
    "        model.fit(s.reshape(1,4),target_arr.reshape(1,2), epochs=1, verbose=0)\n",
    "    r_sums.append(r_sum)\n",
    "    \n",
    "    if n % 500 == 0 and n != 0 : \n",
    "        print(n) \n",
    "        print(np.mean(r_sums[n-100:n]))\n",
    "        \n",
    "        "
   ]
  },
  {
   "cell_type": "code",
   "execution_count": null,
   "metadata": {
    "collapsed": true
   },
   "outputs": [],
   "source": [
    "# Experience Replay - update weights after every episode\n",
    "msize = min(minibatch_size,n)\n",
    "minibatch = np.random.choice(replay_memory, msize , replace=False)\n",
    "for i in range(msize): \n",
    "    tmp = minibatch[i]\n",
    "    s,a,r,sprime = tmp['s'],tmp['a'],tmp['r'],tmp['sprime']\n",
    "    # 2. Do a feedforward pass for the next state s’ and calculate \n",
    "    # maximum overall network outputs max a’ Q(s’, a’).\n",
    "    qvals_sprime = model.predict(sprime.reshape(1,4))\n",
    "    # 3. Set Q-value target for action to r + γmax a’ Q(s’, a’), \n",
    "    # For all other actions, set the Q-value target to the same \n",
    "    # as originally returned from step 1, making the error 0 for those outputs.\n",
    "    target = r + gamma * np.max(qvals_sprime)\n",
    "    target_arr = []\n",
    "    for i in range(n_actions): \n",
    "        if i == a: target_arr.append(target)\n",
    "        else:      target_arr.append(qvals_s[0][i])\n",
    "    target_arr = np.array(target_arr)\n",
    "    model.fit(s.reshape(1,4),target_arr.reshape(1,2), epochs=1, verbose=0)"
   ]
  },
  {
   "cell_type": "code",
   "execution_count": 239,
   "metadata": {
    "collapsed": true
   },
   "outputs": [],
   "source": [
    "minibatch = np.random.choice(replay_memory, msize , replace=False)\n"
   ]
  },
  {
   "cell_type": "code",
   "execution_count": null,
   "metadata": {
    "collapsed": true
   },
   "outputs": [],
   "source": [
    "targe"
   ]
  },
  {
   "cell_type": "code",
   "execution_count": null,
   "metadata": {
    "collapsed": true
   },
   "outputs": [],
   "source": [
    "minibatch = random.sample(self.memory, batch_size)\n",
    "for s, a, r, sprime in minibatch:\n",
    "   # target = r\n",
    "   # if not done:\n",
    "    target = r + gamma * np.amax(model.predict(sprime)[0])\n",
    "    target_f = model.predict(s.reshape(1,4))\n",
    "    target_f[0][a] = target\n",
    "    model.fit(s, target_f, epochs=1, verbose=0)\n",
    "if self.epsilon > self.epsilon_min:\n",
    "    self.epsilon *= self.epsilon_decay"
   ]
  },
  {
   "cell_type": "code",
   "execution_count": 243,
   "metadata": {},
   "outputs": [],
   "source": [
    "target_f = model.predict(s.reshape((1,4)))\n"
   ]
  },
  {
   "cell_type": "code",
   "execution_count": 244,
   "metadata": {},
   "outputs": [
    {
     "data": {
      "text/plain": [
       "array([[12929.587, 13232.123]], dtype=float32)"
      ]
     },
     "execution_count": 244,
     "metadata": {},
     "output_type": "execute_result"
    }
   ],
   "source": [
    "target_f"
   ]
  },
  {
   "cell_type": "code",
   "execution_count": 245,
   "metadata": {},
   "outputs": [
    {
     "data": {
      "text/plain": [
       "array([-0.04088862, -0.03568615,  0.0272934 , -0.02125022])"
      ]
     },
     "execution_count": 245,
     "metadata": {},
     "output_type": "execute_result"
    }
   ],
   "source": [
    "s"
   ]
  },
  {
   "cell_type": "code",
   "execution_count": null,
   "metadata": {
    "collapsed": true
   },
   "outputs": [],
   "source": []
  }
 ],
 "metadata": {
  "kernelspec": {
   "display_name": "Python 3",
   "language": "python",
   "name": "python3"
  },
  "language_info": {
   "codemirror_mode": {
    "name": "ipython",
    "version": 3
   },
   "file_extension": ".py",
   "mimetype": "text/x-python",
   "name": "python",
   "nbconvert_exporter": "python",
   "pygments_lexer": "ipython3",
   "version": "3.6.1"
  }
 },
 "nbformat": 4,
 "nbformat_minor": 2
}
