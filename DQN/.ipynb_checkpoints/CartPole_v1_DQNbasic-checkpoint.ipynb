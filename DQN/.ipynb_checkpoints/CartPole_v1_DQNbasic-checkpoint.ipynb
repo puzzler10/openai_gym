{
 "cells": [
  {
   "cell_type": "code",
   "execution_count": 83,
   "metadata": {},
   "outputs": [],
   "source": [
    "import gym\n",
    "import pandas as pd\n",
    "import numpy as np\n",
    "import matplotlib.pyplot as plt \n",
    "%matplotlib inline\n",
    "from keras.models import Sequential\n",
    "from keras.layers import Dense\n",
    "from keras.optimizers import Adam"
   ]
  },
  {
   "cell_type": "code",
   "execution_count": 84,
   "metadata": {
    "collapsed": true
   },
   "outputs": [],
   "source": [
    "# Setting up the environment \n",
    "env = gym.make(\"CartPole-v1\")"
   ]
  },
  {
   "cell_type": "code",
   "execution_count": 85,
   "metadata": {
    "collapsed": true
   },
   "outputs": [],
   "source": [
    "## Building the nnet that approximates q \n",
    "n_actions = env.action_space.n\n",
    "input_dim = env.observation_space.shape[0]\n",
    "model = Sequential()\n",
    "model.add(Dense(64, input_dim = input_dim , activation = 'relu'))\n",
    "model.add(Dense(32, activation = 'relu'))\n",
    "model.add(Dense(n_actions, activation = 'linear'))\n",
    "model.compile(optimizer=Adam(), loss = 'mse')"
   ]
  },
  {
   "cell_type": "code",
   "execution_count": 86,
   "metadata": {
    "collapsed": true
   },
   "outputs": [],
   "source": [
    "def replay(replay_memory, minibatch_size=32):\n",
    "    minibatch = np.random.choice(replay_memory, minibatch_size, replace=True)\n",
    "    s_l =      np.array(list(map(lambda x: x['s'], minibatch)))\n",
    "    a_l =      np.array(list(map(lambda x: x['a'], minibatch)))\n",
    "    r_l =      np.array(list(map(lambda x: x['r'], minibatch)))\n",
    "    sprime_l = np.array(list(map(lambda x: x['sprime'], minibatch)))\n",
    "    done_l   = np.array(list(map(lambda x: x['done'], minibatch)))\n",
    "    qvals_sprime_l = model.predict(sprime_l)\n",
    "    target_f = model.predict(s_l) # includes the other actions, states\n",
    "    # q-update\n",
    "    for i,(s,a,r,qvals_sprime, done) in enumerate(zip(s_l,a_l,r_l,qvals_sprime_l, done_l)): \n",
    "        if not done:  target = r + gamma * np.max(qvals_sprime)\n",
    "        else:         target = r\n",
    "        target_f[i][a] = target\n",
    "    model.fit(s_l,target_f, epochs=1, verbose=0)\n",
    "    return model"
   ]
  },
  {
   "cell_type": "code",
   "execution_count": 87,
   "metadata": {
    "collapsed": true
   },
   "outputs": [
    {
     "name": "stdout",
     "output_type": "stream",
     "text": [
      "0\n",
      "100\n",
      "200\n",
      "300\n",
      "400\n",
      "500\n",
      "600\n",
      "700\n",
      "800\n",
      "900\n",
      "1000\n",
      "1100\n",
      "1200\n",
      "1300\n",
      "1400\n",
      "1500\n",
      "1600\n",
      "1700\n",
      "1800\n",
      "1900\n",
      "2000\n",
      "2100\n",
      "2200\n",
      "2300\n",
      "2400\n"
     ]
    }
   ],
   "source": [
    "n_episodes = 2500\n",
    "gamma = 0.99\n",
    "epsilon = 0.9\n",
    "minibatch_size = 32\n",
    "r_sums = []  # stores rewards of each epsiode \n",
    "replay_memory = [] # replay memory holds s, a, r, s'\n",
    "mem_max_size = 100000\n",
    "for n in range(n_episodes): \n",
    "    s = env.reset()\n",
    "    done=False\n",
    "    r_sum = 0\n",
    "    while not done: \n",
    "        # Uncomment this to see the agent learning\n",
    "        # env.render()\n",
    "        # Feedforward pass for current state to get predicted q-values for all actions \n",
    "        qvals_s = model.predict(s.reshape(1,4))\n",
    "        # Choose action to be epsilon-greedy\n",
    "        if np.random.random() < epsilon:  a = env.action_space.sample()\n",
    "        else:                             a = np.argmax(qvals_s); \n",
    "        # Take step, store results \n",
    "        sprime, r, done, info = env.step(a)\n",
    "        r_sum += r \n",
    "        # add to memory, respecting memory buffer limit \n",
    "        if len(replay_memory) > mem_max_size:\n",
    "            replay_memory.pop(0)\n",
    "        replay_memory.append({\"s\":s,\"a\":a,\"r\":r,\"sprime\":sprime,\"done\":done})\n",
    "        # Update state\n",
    "        s=sprime\n",
    "        # Train the nnet that approximates q(s,a), using the replay memory\n",
    "        model=replay(replay_memory, minibatch_size = minibatch_size)\n",
    "        # Decrease epsilon until we hit a target threshold \n",
    "    if epsilon > 0.1:      epsilon -= 0.001\n",
    "    #print(\"Total reward:\", r_sum)\n",
    "    r_sums.append(r_sum)\n",
    "    if n % 100 == 0: print(n)\n",
    "        "
   ]
  },
  {
   "cell_type": "code",
   "execution_count": 88,
   "metadata": {},
   "outputs": [
    {
     "data": {
      "text/plain": [
       "<matplotlib.text.Text at 0x1382e2ac8>"
      ]
     },
     "execution_count": 88,
     "metadata": {},
     "output_type": "execute_result"
    },
    {
     "data": {
      "image/png": "[encoded data removed]",
      "text/plain": [
       "<matplotlib.figure.Figure at 0x1357afd30>"
      ]
     },
     "metadata": {},
     "output_type": "display_data"
    }
   ],
   "source": [
    "# Plot the performance of the agent \n",
    "plt.plot(r_sums)\n",
    "plt.xlabel(\"Episode Number\")\n",
    "plt.ylabel(\"Reward\")"
   ]
  }
 ],
 "metadata": {
  "kernelspec": {
   "display_name": "Python 3",
   "language": "python",
   "name": "python3"
  },
  "language_info": {
   "codemirror_mode": {
    "name": "ipython",
    "version": 3
   },
   "file_extension": ".py",
   "mimetype": "text/x-python",
   "name": "python",
   "nbconvert_exporter": "python",
   "pygments_lexer": "ipython3",
   "version": "3.6.1"
  }
 },
 "nbformat": 4,
 "nbformat_minor": 2
}
